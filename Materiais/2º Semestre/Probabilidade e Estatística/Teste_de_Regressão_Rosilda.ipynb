{
  "nbformat": 4,
  "nbformat_minor": 0,
  "metadata": {
    "colab": {
      "provenance": []
    },
    "kernelspec": {
      "name": "python3",
      "display_name": "Python 3"
    },
    "language_info": {
      "name": "python"
    }
  },
  "cells": [
    {
      "cell_type": "markdown",
      "source": [
        "1º ITEM"
      ],
      "metadata": {
        "id": "QdIB-3Dt1a-K"
      }
    },
    {
      "cell_type": "code",
      "source": [
        "# Declarando os tamanhos da entrada\n",
        "horas = [1,5,4,4,2,1,5,1,5,2,1,6,2,5,4,2,1,1,4,2,6,4,6,6,4]\n",
        "\n",
        "# Declarando os tempos de acordo com a tabela\n",
        "nota = [5,7,7,5,3,1,7,2,8,3,2,7,3,9,10,4,4,3,7,3,7,6,8,6,7]"
      ],
      "metadata": {
        "id": "d4j-YBg2hBIZ"
      },
      "execution_count": 26,
      "outputs": []
    },
    {
      "cell_type": "code",
      "source": [
        "import pandas as pd\n",
        "\n",
        "dataFrame = pd.DataFrame({'horas de estudo' : horas, 'nota' : nota}, \n",
        "                         index = ['' for i in range(len(nota))])\n",
        "\n",
        "print(dataFrame)"
      ],
      "metadata": {
        "colab": {
          "base_uri": "https://localhost:8080/"
        },
        "id": "ARW28OmTpNVp",
        "outputId": "9f31813e-86d0-427b-9512-6a174cced811"
      },
      "execution_count": 27,
      "outputs": [
        {
          "output_type": "stream",
          "name": "stdout",
          "text": [
            "  horas de estudo  nota\n",
            "                1     5\n",
            "                5     7\n",
            "                4     7\n",
            "                4     5\n",
            "                2     3\n",
            "                1     1\n",
            "                5     7\n",
            "                1     2\n",
            "                5     8\n",
            "                2     3\n",
            "                1     2\n",
            "                6     7\n",
            "                2     3\n",
            "                5     9\n",
            "                4    10\n",
            "                2     4\n",
            "                1     4\n",
            "                1     3\n",
            "                4     7\n",
            "                2     3\n",
            "                6     7\n",
            "                4     6\n",
            "                6     8\n",
            "                6     6\n",
            "                4     7\n"
          ]
        }
      ]
    },
    {
      "cell_type": "code",
      "source": [
        "import matplotlib.pyplot as plt\n",
        "import numpy as np\n",
        "\n",
        "plt.style.use('ggplot')\n",
        "fig, ax = plt.subplots()\n",
        "\n",
        "ax.scatter(horas, nota, s = 15)\n",
        "ax.set_xlabel('Horas de Estudo')\n",
        "ax.set_ylabel('Nota')\n",
        "\n",
        "##ax.set(xlim = (0, 41), ylim = (0.8, 1.7), xticks = np.linspace(0, 40, 21), yticks = np.linspace(0.8, 1.7, 19))\n",
        "\n",
        "plt.show()"
      ],
      "metadata": {
        "colab": {
          "base_uri": "https://localhost:8080/",
          "height": 453
        },
        "id": "dM1PLblwmYWV",
        "outputId": "4c0654cf-3d6c-469b-e3a5-53db536eb25f"
      },
      "execution_count": 28,
      "outputs": [
        {
          "output_type": "display_data",
          "data": {
            "text/plain": [
              "<Figure size 640x480 with 1 Axes>"
            ],
            "image/png": "[encoded data removed]"
          },
          "metadata": {}
        }
      ]
    },
    {
      "cell_type": "code",
      "source": [
        "def f1(lista):\n",
        "    soma = 0\n",
        "    for x in lista:\n",
        "        soma += x**2\n",
        "    \n",
        "    return soma"
      ],
      "metadata": {
        "id": "xHwX0BBQvrWN"
      },
      "execution_count": 29,
      "outputs": []
    },
    {
      "cell_type": "code",
      "source": [
        "def f2(lista):\n",
        "    soma = 0\n",
        "    for x in lista:\n",
        "        soma += x\n",
        "    \n",
        "    return soma"
      ],
      "metadata": {
        "id": "WK57jWXPwY31"
      },
      "execution_count": 30,
      "outputs": []
    },
    {
      "cell_type": "code",
      "source": [
        "def f3(lista01, lista02):\n",
        "    soma = 0\n",
        "    for i in range(len(lista01)):\n",
        "        soma += lista01[i]*lista02[i]\n",
        "\n",
        "    return soma"
      ],
      "metadata": {
        "id": "bEgNfKrswvEB"
      },
      "execution_count": 31,
      "outputs": []
    },
    {
      "cell_type": "code",
      "source": [
        "from math import sqrt\n",
        "\n",
        "def r(lista01, lista02):\n",
        "    n = len(lista01)\n",
        "\n",
        "    r = (n*f3(lista01, lista02)-f2(lista01)*f2(lista02))/(sqrt(n*f1(lista01)-f2(lista01)**2)*sqrt(n*f1(lista02)-f2(lista02)**2))\n",
        "\n",
        "    return r"
      ],
      "metadata": {
        "id": "hS9yJmE0xyHb"
      },
      "execution_count": 32,
      "outputs": []
    },
    {
      "cell_type": "code",
      "source": [
        "print('Coeficiente de correlação: r = {:.5f}'.format(r(horas, nota)))"
      ],
      "metadata": {
        "colab": {
          "base_uri": "https://localhost:8080/"
        },
        "id": "F7mdjQx2yi8d",
        "outputId": "a0d4ff6b-79c1-4b41-ea9a-6472eb7b3ffe"
      },
      "execution_count": 33,
      "outputs": [
        {
          "output_type": "stream",
          "name": "stdout",
          "text": [
            "Coeficiente de correlação: r = 0.82374\n"
          ]
        }
      ]
    },
    {
      "cell_type": "markdown",
      "source": [
        "3º ITEM"
      ],
      "metadata": {
        "id": "2IQUtz331XST"
      }
    },
    {
      "cell_type": "markdown",
      "source": [
        "$$t=\\dfrac{r \\sqrt{n-2}}{\\sqrt{1-r^2}}$$\n",
        "\n",
        "$$t^2\\cdot (1-r^2)=r^2\\cdot (n-2)$$\n",
        "\n",
        "$$r^2\\cdot (t^2+n-2)=t^2$$\n",
        "\n",
        "$$r=\\dfrac{t}{\\sqrt{t^2+n-2}}$$"
      ],
      "metadata": {
        "id": "UEXpA3QdpykH"
      }
    },
    {
      "cell_type": "code",
      "source": [
        "def t(r, n):\n",
        "    return (r*sqrt(n-2))/(sqrt(1-r**2))\n",
        "\n",
        "t(0.51, 25)"
      ],
      "metadata": {
        "colab": {
          "base_uri": "https://localhost:8080/"
        },
        "id": "E-H1bxkcrTs7",
        "outputId": "25e11fe5-2e4e-4ac0-9349-7962bb995364"
      },
      "execution_count": 34,
      "outputs": [
        {
          "output_type": "execute_result",
          "data": {
            "text/plain": [
              "2.8434629934003253"
            ]
          },
          "metadata": {},
          "execution_count": 34
        }
      ]
    },
    {
      "cell_type": "code",
      "source": [
        "def r(t, n):\n",
        "    return t/sqrt(t**2 + n-2)\n",
        "\n",
        "r(2.807, 25)"
      ],
      "metadata": {
        "colab": {
          "base_uri": "https://localhost:8080/"
        },
        "id": "0zyq-SmFp6rq",
        "outputId": "104a2790-da9b-4ad1-92a7-86cb33a06999"
      },
      "execution_count": 35,
      "outputs": [
        {
          "output_type": "execute_result",
          "data": {
            "text/plain": [
              "0.5051368455761986"
            ]
          },
          "metadata": {},
          "execution_count": 35
        }
      ]
    },
    {
      "cell_type": "code",
      "source": [
        "def b(x, y):\n",
        "    n = len(x)\n",
        "\n",
        "    b = (n* f3(x,y)-f2(x)*f2(y))/(n*f1(x)-(f2(x))**2)\n",
        "    return b\n",
        "\n",
        "def a(x,y):\n",
        "    n = len(x)\n",
        "\n",
        "    a = (f2(y)- b(x,y)*f2(x))/n\n",
        "    return a\n",
        "\n",
        "print(\"{} + {}*x\".format(a(horas, nota), b(horas, nota)))"
      ],
      "metadata": {
        "colab": {
          "base_uri": "https://localhost:8080/"
        },
        "id": "z8gyay-nsAN4",
        "outputId": "4a77152d-42ef-467c-f703-33758319b19d"
      },
      "execution_count": 36,
      "outputs": [
        {
          "output_type": "stream",
          "name": "stdout",
          "text": [
            "1.759312320916905 + 1.0716332378223496*x\n"
          ]
        }
      ]
    },
    {
      "cell_type": "markdown",
      "source": [
        "$$\\dfrac{\\partial S}{\\partial \\alpha}=\\sum 2\\left(Y_i-\\alpha-\\beta X_i\\right)\\cdot (-1)=0$$\n",
        "\n",
        "$$\\sum (y_i-\\alpha-\\beta x_i)=0$$\n",
        "\n",
        "$$\\sum y_i -\\sum \\alpha -\\sum (\\beta x_i)=0$$\n",
        "\n",
        "$$\\sum y_i - n\\alpha -\\beta \\sum x_i=0$$\n",
        "\n",
        "$$\\boxed{\\alpha = \\dfrac{\\sum y_i - \\beta \\sum x_i}{n}}$$"
      ],
      "metadata": {
        "id": "L1lQgCmTt90K"
      }
    },
    {
      "cell_type": "markdown",
      "source": [
        "4º ITEM"
      ],
      "metadata": {
        "id": "7a2L15U71k9J"
      }
    },
    {
      "cell_type": "code",
      "source": [
        "def media(lista):\n",
        "    total, soma = 0, 0\n",
        "    for arg in lista:\n",
        "        soma += arg\n",
        "        total += 1\n",
        "\n",
        "    return soma/total"
      ],
      "metadata": {
        "id": "oDRzzjTxvlE2"
      },
      "execution_count": 37,
      "outputs": []
    },
    {
      "cell_type": "code",
      "source": [
        "def R(x, y):\n",
        "    A = a(x, y)\n",
        "    B = b(x,y)\n",
        "\n",
        "    y_ = [A+B*i for i in x]\n",
        "    y_medio = media(y)\n",
        "\n",
        "    soma_numerador = 0\n",
        "    for i in range(len(y_)):\n",
        "        soma_numerador += (y_[i]-y_medio)**2\n",
        "\n",
        "    soma_denominador = 0\n",
        "    for i in range(len(y)):\n",
        "        soma_denominador += (y[i]-y_medio)**2\n",
        "\n",
        "    return soma_numerador/soma_denominador\n",
        "\n",
        "\n",
        "R(horas, nota)"
      ],
      "metadata": {
        "colab": {
          "base_uri": "https://localhost:8080/"
        },
        "id": "i1PNWA1GwV0T",
        "outputId": "7c43aa05-a506-471f-a570-1bb0dada5e41"
      },
      "execution_count": 40,
      "outputs": [
        {
          "output_type": "execute_result",
          "data": {
            "text/plain": [
              "0.6785397815105397"
            ]
          },
          "metadata": {},
          "execution_count": 40
        }
      ]
    },
    {
      "cell_type": "code",
      "source": [],
      "metadata": {
        "id": "Qp1M05UXyuKU"
      },
      "execution_count": null,
      "outputs": []
    },
    {
      "cell_type": "code",
      "source": [],
      "metadata": {
        "id": "XMMXZe-cyt3J"
      },
      "execution_count": null,
      "outputs": []
    },
    {
      "cell_type": "markdown",
      "source": [
        "5º ITEM"
      ],
      "metadata": {
        "id": "0bRulE041q70"
      }
    },
    {
      "cell_type": "code",
      "source": [
        "def f(x, y):\n",
        "    n = len(x)\n",
        "\n",
        "    gR = 1\n",
        "    gE = n-2\n",
        "\n",
        "    A = a(x, y)\n",
        "    B = b(x,y)\n",
        "\n",
        "    y_ = [A+B*i for i in x]\n",
        "    y_medio = media(y)\n",
        "\n",
        "    SQR = 0\n",
        "    for k in y_:\n",
        "        SQR += (k-y_medio)**2\n",
        "\n",
        "    SQE = 0\n",
        "    for i in range(len(y)):\n",
        "        SQE = (y[i]-y_[i])**2\n",
        "\n",
        "    QMR = SQR/gR\n",
        "\n",
        "    QME = SQE/gE\n",
        "\n",
        "    f = QMR/QME\n",
        "\n",
        "    return f\n",
        "\n",
        "f(horas, nota)"
      ],
      "metadata": {
        "colab": {
          "base_uri": "https://localhost:8080/"
        },
        "id": "xsNWxdd0ytgt",
        "outputId": "79cec256-350b-4468-a52e-20385a9553b3"
      },
      "execution_count": 41,
      "outputs": [
        {
          "output_type": "execute_result",
          "data": {
            "text/plain": [
              "2430.0725633741854"
            ]
          },
          "metadata": {},
          "execution_count": 41
        }
      ]
    }
  ]
}