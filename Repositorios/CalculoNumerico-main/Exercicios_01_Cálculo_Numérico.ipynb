{
  "nbformat": 4,
  "nbformat_minor": 0,
  "metadata": {
    "colab": {
      "provenance": []
    },
    "kernelspec": {
      "name": "python3",
      "display_name": "Python 3"
    },
    "language_info": {
      "name": "python"
    }
  },
  "cells": [
    {
      "cell_type": "markdown",
      "source": [
        "## **Exercicios 01 - Cálculo Numérico**\n",
        "\n",
        "**Wanderson Faustino Patricio**\n"
      ],
      "metadata": {
        "id": "L1Exkcy9ljqg"
      }
    },
    {
      "cell_type": "code",
      "source": [
        "# Antes das soluções vamos importar as bibliotecas necessárias\n",
        "import numpy as np\n",
        "import numpy.linalg as la\n",
        "from math import *"
      ],
      "metadata": {
        "id": "NsUJDSZMnGK3"
      },
      "execution_count": 13,
      "outputs": []
    },
    {
      "cell_type": "code",
      "source": [
        "def badSolver(A : np.array, b : np.array) -> np.array:\n",
        "    \"\"\"Solves the system Ax = b\n",
        "    A and b must be of the np.array\n",
        "    \"\"\"\n",
        "    At = A.transpose()\n",
        "    AtA = At.dot(A)\n",
        "    Atb = At.dot(b)\n",
        "\n",
        "    return la.solve(AtA, Atb)"
      ],
      "metadata": {
        "id": "R6SV7W_noTCP"
      },
      "execution_count": 2,
      "outputs": []
    },
    {
      "cell_type": "code",
      "source": [
        "def linAlgSolver(A : np.array, b : np.array) -> np.array:\n",
        "    \"\"\"Solves the system Ax = b with the library np.linalg\n",
        "    A and b must be of the np.array\n",
        "    \"\"\"\n",
        "    return la.lstsq(A, b)[0]"
      ],
      "metadata": {
        "id": "uNFsNPPiqBf_"
      },
      "execution_count": 32,
      "outputs": []
    },
    {
      "cell_type": "markdown",
      "source": [
        "**Questão 01**"
      ],
      "metadata": {
        "id": "EHzjm3dtl_21"
      }
    },
    {
      "cell_type": "markdown",
      "source": [
        "Resolva o sistema abaixo usando o metodo dos mínimos quadrados.\n",
        "\n",
        "$$\n",
        "\\left[\n",
        "\\begin{array}{cc}\n",
        "1 & 1 \\\\\n",
        "2 & 1 \\\\\n",
        "3 & 1\n",
        "\\end{array}\n",
        "\\right]\n",
        "\\left[\n",
        "\\begin{array}{c}\n",
        "x_0 \\\\\n",
        "x_1\n",
        "\\end{array}\n",
        "\\right] =\n",
        "\\left[\n",
        "\\begin{array}{c}\n",
        "1 \\\\\n",
        "2 \\\\\n",
        "0\n",
        "\\end{array}\n",
        "\\right]\n",
        "$$"
      ],
      "metadata": {
        "id": "nUgspWC4mDaF"
      }
    },
    {
      "cell_type": "markdown",
      "source": [
        "***Solução Analítica***"
      ],
      "metadata": {
        "id": "cEk4IDrHnCN-"
      }
    },
    {
      "cell_type": "markdown",
      "source": [
        "Multiplicando pela transposta da primeira matriz em ambos os lados\n",
        "\n",
        "$$\n",
        "\\left[\n",
        "\\begin{array}{ccc}\n",
        "1 & 2 & 3 \\\\\n",
        "1 & 1 & 1\n",
        "\\end{array}\n",
        "\\right]\n",
        "\\left[\n",
        "\\begin{array}{cc}\n",
        "1 & 1 \\\\\n",
        "2 & 1 \\\\\n",
        "3 & 1\n",
        "\\end{array}\n",
        "\\right]\n",
        "\\left[\n",
        "\\begin{array}{c}\n",
        "x_0 \\\\\n",
        "x_1\n",
        "\\end{array}\n",
        "\\right] =\n",
        "\\left[\n",
        "\\begin{array}{ccc}\n",
        "1 & 2 & 3 \\\\\n",
        "1 & 1 & 1\n",
        "\\end{array}\n",
        "\\right]\n",
        "\\left[\n",
        "\\begin{array}{c}\n",
        "1 \\\\\n",
        "2 \\\\\n",
        "0\n",
        "\\end{array}\n",
        "\\right]\n",
        "$$"
      ],
      "metadata": {
        "id": "QpaNcUG-nYQP"
      }
    },
    {
      "cell_type": "markdown",
      "source": [
        "$$\n",
        "\\left[\n",
        "\\begin{array}{cc}\n",
        "14 & 6 \\\\\n",
        "6 & 3\n",
        "\\end{array}\n",
        "\\right]\n",
        "\\left[\n",
        "\\begin{array}{c}\n",
        "x_0 \\\\\n",
        "x_1\n",
        "\\end{array}\n",
        "\\right]=\n",
        "\\left[\n",
        "\\begin{array}{c}\n",
        "5 \\\\\n",
        "3\n",
        "\\end{array}\n",
        "\\right]\n",
        "$$"
      ],
      "metadata": {
        "id": "eSBzZhaons-2"
      }
    },
    {
      "cell_type": "markdown",
      "source": [
        "A solução será\n",
        "\n",
        "$$\n",
        "\\left[\n",
        "\\begin{array}{c}\n",
        "x_o \\\\\n",
        "x_1\n",
        "\\end{array}\n",
        "\\right]=\n",
        "\\left[\n",
        "\\begin{array}{c}\n",
        "-\\dfrac{1}{2} \\\\\n",
        "2\n",
        "\\end{array}\n",
        "\\right]\n",
        "$$"
      ],
      "metadata": {
        "id": "bK2ZvmrypTNl"
      }
    },
    {
      "cell_type": "markdown",
      "source": [
        "***Solução Numérica***"
      ],
      "metadata": {
        "id": "K4iPQiuAqYQP"
      }
    },
    {
      "cell_type": "code",
      "source": [
        "A = np.array([[1, 1],[2,1],[3,1]])\n",
        "b = np.array([1,2,0])\n",
        "\n",
        "badSolution = badSolver(A, b)\n",
        "linalgSolution = linAlgSolver(A, b)"
      ],
      "metadata": {
        "id": "jOU9L2gfqbyG"
      },
      "execution_count": null,
      "outputs": []
    },
    {
      "cell_type": "code",
      "source": [
        "print(\"Bad Solution:\")\n",
        "badSolution"
      ],
      "metadata": {
        "colab": {
          "base_uri": "https://localhost:8080/",
          "height": 0
        },
        "id": "HVlLCu3Iq-6h",
        "outputId": "a73759c7-eae6-4a46-e596-ae29b3a518f9"
      },
      "execution_count": 7,
      "outputs": [
        {
          "output_type": "stream",
          "name": "stdout",
          "text": [
            "Bad Solution:\n"
          ]
        },
        {
          "output_type": "execute_result",
          "data": {
            "text/plain": [
              "array([-0.5,  2. ])"
            ]
          },
          "metadata": {},
          "execution_count": 7
        }
      ]
    },
    {
      "cell_type": "code",
      "source": [
        "print(\"linAlg Solution:\")\n",
        "linalgSolution"
      ],
      "metadata": {
        "colab": {
          "base_uri": "https://localhost:8080/",
          "height": 0
        },
        "id": "4V2NoiW0rGiW",
        "outputId": "b2b5f797-8fc9-42fb-c950-2e86ffa2104b"
      },
      "execution_count": 9,
      "outputs": [
        {
          "output_type": "stream",
          "name": "stdout",
          "text": [
            "linAlg Solution:\n"
          ]
        },
        {
          "output_type": "execute_result",
          "data": {
            "text/plain": [
              "array([-0.5,  2. ])"
            ]
          },
          "metadata": {},
          "execution_count": 9
        }
      ]
    },
    {
      "cell_type": "markdown",
      "source": [
        "**Questão 02**"
      ],
      "metadata": {
        "id": "jWQpvMRgrbDv"
      }
    },
    {
      "cell_type": "markdown",
      "source": [
        "a) Aplicando os valores\n",
        "\n",
        "\n",
        "\n",
        "*   $f(0)=a+b=26$\n",
        "*   $f(6)=a+c=21$\n",
        "*   $f(12)=a-b=34$\n",
        "*   $f(18)=a-c=30$\n",
        "\n",
        "teremos o seguinte sistema\n",
        "\n",
        "$$\n",
        "\\left[\n",
        "\\begin{array}{ccc}\n",
        "1 & 1 & 0 \\\\\n",
        "1 & 0 & 1 \\\\\n",
        "1 & -1 & 0 \\\\\n",
        "1 & 0 & -1 \\\\\n",
        "\\end{array}\n",
        "\\right]\n",
        "\\left[\n",
        "\\begin{array}{c}\n",
        "a \\\\\n",
        "b \\\\\n",
        "c\n",
        "\\end{array}\n",
        "\\right]=\n",
        "\\left[\n",
        "\\begin{array}{c}\n",
        "26 \\\\\n",
        "21 \\\\\n",
        "34 \\\\\n",
        "30\n",
        "\\end{array}\n",
        "\\right]\n",
        "$$"
      ],
      "metadata": {
        "id": "Q2FDci-_rghG"
      }
    },
    {
      "cell_type": "markdown",
      "source": [
        "b) Seguindo a mesma ideia do item anterior\n",
        "\n",
        "$$\n",
        "\\left[\n",
        "\\begin{array}{cccc}\n",
        "1 & 1 & 1 & 1 \\\\\n",
        "1 & 0 & -1 & 0 \\\\\n",
        "0 & 1 & 0 & -1\n",
        "\\end{array}\n",
        "\\right]\n",
        "\\left[\n",
        "\\begin{array}{ccc}\n",
        "1 & 1 & 0 \\\\\n",
        "1 & 0 & 1 \\\\\n",
        "1 & -1 & 0 \\\\\n",
        "1 & 0 & -1 \\\\\n",
        "\\end{array}\n",
        "\\right]\n",
        "\\left[\n",
        "\\begin{array}{c}\n",
        "a \\\\\n",
        "b \\\\\n",
        "c\n",
        "\\end{array}\n",
        "\\right]=\n",
        "\\left[\n",
        "\\begin{array}{cccc}\n",
        "1 & 1 & 1 & 1 \\\\\n",
        "1 & 0 & -1 & 0 \\\\\n",
        "0 & 1 & 0 & -1\n",
        "\\end{array}\n",
        "\\right]\n",
        "\\left[\n",
        "\\begin{array}{c}\n",
        "26 \\\\\n",
        "21 \\\\\n",
        "34 \\\\\n",
        "30\n",
        "\\end{array}\n",
        "\\right]\n",
        "$$"
      ],
      "metadata": {
        "id": "sPk2knWfsieX"
      }
    },
    {
      "cell_type": "markdown",
      "source": [
        "$$\n",
        "\\left[\n",
        "\\begin{array}{ccc}\n",
        "4 & 0 &  0 \\\\\n",
        "0 & 2 & 0 \\\\\n",
        "0 & 0 & 2\n",
        "\\end{array}\n",
        "\\right]\\left[\n",
        "\\begin{array}{c}\n",
        "a \\\\\n",
        "b \\\\\n",
        "c\n",
        "\\end{array}\n",
        "\\right]=\n",
        "\\left[\n",
        "\\begin{array}{c}\n",
        "111 \\\\\n",
        "-8\\\\\n",
        "-9\n",
        "\\end{array}\n",
        "\\right]\n",
        "$$\n",
        "\n",
        "O que nos dá a solução\n",
        "\n",
        "$$\n",
        "\\left[\n",
        "\\begin{array}{c}\n",
        "a \\\\\n",
        "b \\\\\n",
        "c\n",
        "\\end{array}\n",
        "\\right]=\n",
        "\\left[\n",
        "\\begin{array}{c}\n",
        "\\dfrac{111}{4} \\\\\n",
        "-4\\\\\n",
        "-\\dfrac{9}{2}\n",
        "\\end{array}\n",
        "\\right]=\n",
        "\\left[\n",
        "\\begin{array}{c}\n",
        "27.25 \\\\\n",
        "-4\\\\\n",
        "-4.5\n",
        "\\end{array}\n",
        "\\right]\n",
        "$$"
      ],
      "metadata": {
        "id": "8mtjNAB8s6IP"
      }
    },
    {
      "cell_type": "code",
      "source": [
        "A = np.array([[1, 1, 0],[1, 0, 1],[1, -1, 0],[1,0,-1]])\n",
        "b = np.array([26, 21, 34, 30])\n",
        "\n",
        "badSolution = badSolver(A, b)\n",
        "linalgSolution = linAlgSolver(A, b)"
      ],
      "metadata": {
        "id": "FcYI-Cd3uPE4"
      },
      "execution_count": null,
      "outputs": []
    },
    {
      "cell_type": "code",
      "source": [
        "print(\"Bad Solution:\")\n",
        "badSolution"
      ],
      "metadata": {
        "colab": {
          "base_uri": "https://localhost:8080/",
          "height": 0
        },
        "outputId": "170d9b69-a681-4977-ff08-4b40d17c6bb0",
        "id": "Oicj9te_uPE4"
      },
      "execution_count": 11,
      "outputs": [
        {
          "output_type": "stream",
          "name": "stdout",
          "text": [
            "Bad Solution:\n"
          ]
        },
        {
          "output_type": "execute_result",
          "data": {
            "text/plain": [
              "array([27.75, -4.  , -4.5 ])"
            ]
          },
          "metadata": {},
          "execution_count": 11
        }
      ]
    },
    {
      "cell_type": "code",
      "source": [
        "print(\"linAlg Solution:\")\n",
        "linalgSolution"
      ],
      "metadata": {
        "colab": {
          "base_uri": "https://localhost:8080/",
          "height": 0
        },
        "outputId": "b66cff04-6112-43bd-d5ca-a159eb514808",
        "id": "KNr9pi82uPE4"
      },
      "execution_count": 12,
      "outputs": [
        {
          "output_type": "stream",
          "name": "stdout",
          "text": [
            "linAlg Solution:\n"
          ]
        },
        {
          "output_type": "execute_result",
          "data": {
            "text/plain": [
              "array([27.75, -4.  , -4.5 ])"
            ]
          },
          "metadata": {},
          "execution_count": 12
        }
      ]
    },
    {
      "cell_type": "markdown",
      "source": [
        "c) $T(14)=27.75 - 4\\cdot \\cos{\\left(\\dfrac{7\\pi}{6}\\right)}-7.5\\cdot \\sin{\\left(\\dfrac{7\\pi}{6}\\right)}=33.464^{\\circ}C$"
      ],
      "metadata": {
        "id": "DN-vmidhupqg"
      }
    },
    {
      "cell_type": "code",
      "source": [
        "linalgSolution[0] + linalgSolution[1] * cos((7*pi)/6) + linalgSolution[2] * sin((7*pi)/6)"
      ],
      "metadata": {
        "colab": {
          "base_uri": "https://localhost:8080/",
          "height": 0
        },
        "id": "n5vgGgnhvRFX",
        "outputId": "bb14a929-cb2e-4ecf-db64-6931f9d5fb7c"
      },
      "execution_count": 16,
      "outputs": [
        {
          "output_type": "execute_result",
          "data": {
            "text/plain": [
              "33.46410161513776"
            ]
          },
          "metadata": {},
          "execution_count": 16
        }
      ]
    },
    {
      "cell_type": "markdown",
      "source": [
        "**Questão 03**"
      ],
      "metadata": {
        "id": "FH7pZ7wbvvzQ"
      }
    },
    {
      "cell_type": "markdown",
      "source": [
        "a) Aplicando os valores\n",
        "\n",
        "\n",
        "\n",
        "*   $f(0)=a+c=0$\n",
        "*   $f(0.5)=a\\cdot \\sqrt{e}+c=0.57$\n",
        "*   $f(1)=a\\cdot e + c=1.46$\n",
        "*   $f(2)=a\\cdot e^2+ c=5.05$\n",
        "\n",
        "teremos o seguinte sistema\n",
        "\n",
        "$$\n",
        "\\left[\n",
        "\\begin{array}{cc}\n",
        "1 & 1 \\\\\n",
        "\\sqrt{e} & 1  \\\\\n",
        "e & 1 \\\\\n",
        "e^2 & 1 \\\\\n",
        "\\end{array}\n",
        "\\right]\n",
        "\\left[\n",
        "\\begin{array}{c}\n",
        "a \\\\\n",
        "c\n",
        "\\end{array}\n",
        "\\right]=\n",
        "\\left[\n",
        "\\begin{array}{c}\n",
        "0 \\\\\n",
        "0.57 \\\\\n",
        "1.46 \\\\\n",
        "5.05\n",
        "\\end{array}\n",
        "\\right]\n",
        "$$"
      ],
      "metadata": {
        "id": "RLGhQdrUvvzQ"
      }
    },
    {
      "cell_type": "markdown",
      "source": [
        "Fazendo mínimos quadrados\n",
        "\n",
        "$$\n",
        "\\left[\n",
        "\\begin{array}{cccc}\n",
        "1 & \\sqrt{e} & e & e^2 \\\\\n",
        "1&1&1&1\n",
        "\\end{array}\n",
        "\\right]\n",
        "\\left[\n",
        "\\begin{array}{cc}\n",
        "1 & 1 \\\\\n",
        "\\sqrt{e} & 1  \\\\\n",
        "e & 1 \\\\\n",
        "e^2 & 1 \\\\\n",
        "\\end{array}\n",
        "\\right]\n",
        "\\left[\n",
        "\\begin{array}{c}\n",
        "a \\\\\n",
        "c\n",
        "\\end{array}\n",
        "\\right]=\n",
        "\\left[\n",
        "\\begin{array}{cccc}\n",
        "1 & \\sqrt{e} & e & e^2 \\\\\n",
        "1&1&1&1\n",
        "\\end{array}\n",
        "\\right]\n",
        "\\left[\n",
        "\\begin{array}{c}\n",
        "0 \\\\\n",
        "0.57 \\\\\n",
        "1.46 \\\\\n",
        "5.05\n",
        "\\end{array}\n",
        "\\right]\n",
        "$$\n",
        "\n",
        "$$\n",
        "\\left[\n",
        "\\begin{array}{cc}\n",
        "65.704 & 12.756 \\\\\n",
        "12.756 & 4 \\\\\n",
        "\\end{array}\n",
        "\\right]\n",
        "\\left[\n",
        "\\begin{array}{c}\n",
        "a \\\\\n",
        "c\n",
        "\\end{array}\n",
        "\\right]=\n",
        "\\left[\n",
        "\\begin{array}{c}\n",
        "42.223 \\\\\n",
        "7.08\n",
        "\\end{array}\n",
        "\\right]\n",
        "$$"
      ],
      "metadata": {
        "id": "JzN_OqRCwSNu"
      }
    },
    {
      "cell_type": "markdown",
      "source": [
        "A solução será\n",
        "\n",
        "$$\n",
        "\\left[\n",
        "\\begin{array}{c}\n",
        "a \\\\\n",
        "c\n",
        "\\end{array}\n",
        "\\right]=\\left[\n",
        "\\begin{array}{c}\n",
        "0.785 \\\\\n",
        "-0.733\n",
        "\\end{array}\n",
        "\\right]\n",
        "$$"
      ],
      "metadata": {
        "id": "pU-GY7W3wPFZ"
      }
    },
    {
      "cell_type": "code",
      "source": [
        "A = np.array([[1, 1],[sqrt(e), 1],[e, 1],[e**2,1]])\n",
        "b = np.array([0,0.57,1.46,5.05])\n",
        "\n",
        "badSolution = badSolver(A, b)\n",
        "linalgSolution = linAlgSolver(A, b)"
      ],
      "metadata": {
        "id": "2ugvirF4xuSb"
      },
      "execution_count": null,
      "outputs": []
    },
    {
      "cell_type": "code",
      "source": [
        "print(\"Bad Solution:\")\n",
        "badSolution"
      ],
      "metadata": {
        "colab": {
          "base_uri": "https://localhost:8080/",
          "height": 0
        },
        "outputId": "56886deb-4a8f-4617-d49d-69cc5ee0f270",
        "id": "JDiCTFboxuSc"
      },
      "execution_count": 29,
      "outputs": [
        {
          "output_type": "stream",
          "name": "stdout",
          "text": [
            "Bad Solution:\n"
          ]
        },
        {
          "output_type": "execute_result",
          "data": {
            "text/plain": [
              "array([ 0.78497536, -0.73329805])"
            ]
          },
          "metadata": {},
          "execution_count": 29
        }
      ]
    },
    {
      "cell_type": "code",
      "source": [
        "print(\"linAlg Solution:\")\n",
        "linalgSolution"
      ],
      "metadata": {
        "colab": {
          "base_uri": "https://localhost:8080/",
          "height": 0
        },
        "outputId": "31a0776a-a8b8-4034-ed39-eeaf94e15bee",
        "id": "OFMGDj96xuSc"
      },
      "execution_count": 30,
      "outputs": [
        {
          "output_type": "stream",
          "name": "stdout",
          "text": [
            "linAlg Solution:\n"
          ]
        },
        {
          "output_type": "execute_result",
          "data": {
            "text/plain": [
              "array([ 0.78497536, -0.73329805])"
            ]
          },
          "metadata": {},
          "execution_count": 30
        }
      ]
    },
    {
      "cell_type": "markdown",
      "source": [
        "b) Aplicando os valores de $a$ e $c$ para achar b:\n",
        "\n",
        "*   $f(0)=0.785 \\cdot e^{b\\cdot 0}-0.733=0$\n",
        "*   $f(0.5)=0.785 \\cdot e^{b\\cdot 0.5}-0.733=0.57$\n",
        "*   $f(1)=0.785 \\cdot e^{b\\cdot 1}-0.733=1.46$\n",
        "*   $f(2)=0.785 \\cdot e^{b\\cdot 2}-0.733=5.05$\n",
        "\n",
        "Organizando\n",
        "*   $e^{b\\cdot 0}=0.934$\n",
        "*   $e^{b\\cdot 0.5}=1.660$\n",
        "*   $e^{b\\cdot 1}=2.794$\n",
        "*   $e^{b\\cdot 2}=7.367$\n",
        "\n",
        "Encontramos portanto o sistema\n",
        "\n",
        "$$\n",
        "\\left[\n",
        "\\begin{array}{c}\n",
        "0 \\\\\n",
        "0.5 \\\\\n",
        "1 \\\\\n",
        "2\n",
        "\\end{array}\n",
        "\\right]\n",
        "\\left[\n",
        "\\begin{array}{c}\n",
        "b\n",
        "\\end{array}\n",
        "\\right]=\n",
        "\\left[\n",
        "\\begin{array}{c}\n",
        "\\ln{(0.934)} \\\\\n",
        "\\ln{(1.660)} \\\\\n",
        "\\ln{(2.794)} \\\\\n",
        "\\ln{(7.367)} \\\\\n",
        "\\end{array}\n",
        "\\right]\n",
        "$$\n",
        "\n",
        "$$\n",
        "\\left[\n",
        "\\begin{array}{cccc}\n",
        "0 & 0.5 &1 &2\n",
        "\\end{array}\n",
        "\\right]\n",
        "\\left[\n",
        "\\begin{array}{c}\n",
        "0 \\\\\n",
        "0.5 \\\\\n",
        "1 \\\\\n",
        "2\n",
        "\\end{array}\n",
        "\\right]\n",
        "\\left[\n",
        "\\begin{array}{c}\n",
        "b\n",
        "\\end{array}\n",
        "\\right]=\n",
        "\\left[\n",
        "\\begin{array}{cccc}\n",
        "0 & 0.5 &1 &2\n",
        "\\end{array}\n",
        "\\right]\n",
        "\\left[\n",
        "\\begin{array}{c}\n",
        "\\ln{(0.934)} \\\\\n",
        "\\ln{(1.660)} \\\\\n",
        "\\ln{(2.794)} \\\\\n",
        "\\ln{(7.367)} \\\\\n",
        "\\end{array}\n",
        "\\right]\n",
        "$$"
      ],
      "metadata": {
        "id": "Eq7QXNc7yeSX"
      }
    },
    {
      "cell_type": "markdown",
      "source": [
        "$$\n",
        "\\left[\n",
        "\\begin{array}{c}\n",
        "5.25\n",
        "\\end{array}\n",
        "\\right]\n",
        "\\left[\n",
        "\\begin{array}{}\n",
        "b\n",
        "\\end{array}\n",
        "\\right]=\n",
        "\\left[\n",
        "\\begin{array}{}\n",
        "5,275\n",
        "\\end{array}\n",
        "\\right]\n",
        "$$\n",
        "\n",
        "Portanto:\n",
        "\n",
        "$$b=1.00476$$"
      ],
      "metadata": {
        "id": "ioOmmHSm0j2n"
      }
    },
    {
      "cell_type": "code",
      "source": [
        "A = np.array([[0], [0.5], [1], [2]])\n",
        "b = np.log(np.array([0.934, 1.66, 2.794, 7.367]))\n",
        "\n",
        "badSolution = badSolver(A, b)\n",
        "linalgSolution = linAlgSolver(A, b)"
      ],
      "metadata": {
        "id": "cqiM9ENf1OIa"
      },
      "execution_count": null,
      "outputs": []
    },
    {
      "cell_type": "code",
      "source": [
        "print(\"Bad Solution:\")\n",
        "badSolution"
      ],
      "metadata": {
        "colab": {
          "base_uri": "https://localhost:8080/",
          "height": 0
        },
        "outputId": "0ea92313-9683-422e-8e0c-368416712cef",
        "id": "DAlHrPsu1OIb"
      },
      "execution_count": 42,
      "outputs": [
        {
          "output_type": "execute_result",
          "data": {
            "text/plain": [
              "array([1.00474366])"
            ]
          },
          "metadata": {},
          "execution_count": 42
        }
      ]
    },
    {
      "cell_type": "code",
      "source": [
        "print(\"linAlg Solution:\")\n",
        "linalgSolution"
      ],
      "metadata": {
        "colab": {
          "base_uri": "https://localhost:8080/",
          "height": 0
        },
        "outputId": "32ee0ad6-4558-44f6-fb5b-039254f6804e",
        "id": "gJh0iyWx1OIb"
      },
      "execution_count": 43,
      "outputs": [
        {
          "output_type": "stream",
          "name": "stdout",
          "text": [
            "linAlg Solution:\n"
          ]
        },
        {
          "output_type": "execute_result",
          "data": {
            "text/plain": [
              "array([1.00474366])"
            ]
          },
          "metadata": {},
          "execution_count": 43
        }
      ]
    },
    {
      "cell_type": "markdown",
      "source": [
        "c) Faremos agora o cálculo do coeficiente de correlação dos dois modelos."
      ],
      "metadata": {
        "id": "3yXT7URC28Cn"
      }
    },
    {
      "cell_type": "code",
      "source": [
        "def mean(lista):\n",
        "    sum = 0\n",
        "    for item in lista:\n",
        "        sum += item\n",
        "\n",
        "    return sum/lista.size\n",
        "\n",
        "def R(y_real, y_pred):\n",
        "    n = y_real.size\n",
        "    y_mean = mean(y_real)\n",
        "    SQtot = 0\n",
        "    for index in range(n):\n",
        "        SQtot += (y_real[index]- y_mean)**2\n",
        "\n",
        "    SQres = 0\n",
        "    for index in range(n):\n",
        "        SQres += (y_real[index]- y_pred[index])**2\n",
        "\n",
        "    coeff = 1 - SQres/SQtot\n",
        "    return coeff"
      ],
      "metadata": {
        "id": "3dHuDerh3G33"
      },
      "execution_count": 60,
      "outputs": []
    },
    {
      "cell_type": "code",
      "source": [
        "y_real = np.array([0,0.57,1.46,5.05])\n",
        "x = np.array([0, 0.5, 1, 2])\n",
        "y_pred1 = 0.785 * np.exp(x) - 0.733\n",
        "y_pred2 = 0.785 * np.exp(1.00474366*x) - 0.733\n",
        "\n",
        "R1 = R(y_real, y_pred1)\n",
        "R2 = R(y_real, y_pred2)\n",
        "\n",
        "print(f'Coeficiente da abordagem 1 : {R1}')\n",
        "print(f'Coeficiente da abordagem 2 : {R2}')"
      ],
      "metadata": {
        "colab": {
          "base_uri": "https://localhost:8080/",
          "height": 0
        },
        "id": "zJll9e_y48q4",
        "outputId": "8feeeb97-a123-48e7-c402-7400e47756ed"
      },
      "execution_count": 61,
      "outputs": [
        {
          "output_type": "stream",
          "name": "stdout",
          "text": [
            "Coeficiente da abordagem 1 : 0.9995733383453307\n",
            "Coeficiente da abordagem 2 : 0.999324385247391\n"
          ]
        }
      ]
    },
    {
      "cell_type": "markdown",
      "source": [
        "A primeira abordagem gerou um coeficiente de correlação maior, ou seja, foi mais preciso"
      ],
      "metadata": {
        "id": "cHTNIBBs6JvQ"
      }
    },
    {
      "cell_type": "markdown",
      "source": [
        "**Questão 04**\n",
        "\n",
        "a) Trabalhando um pouco a equação, podemos chegar ao seguinte resultado\n",
        "\n",
        "$$\\sqrt{y} = \\dfrac{a}{b}\\cdot \\dfrac{1}{\\sqrt{x}} + \\dfrac{1}{b}$$\n",
        "\n",
        "Ou seja, uma equação do tipo\n",
        "\n",
        "$$u = m\\cdot v + n$$\n",
        "\n",
        "com $u=\\sqrt{y}$, $v=\\dfrac{1}{\\sqrt{x}}$, $m=\\dfrac{a}{b}$  e  $n=\\dfrac{1}{b}$.\n",
        "\n",
        "b) Reescrevendo a tabela\n",
        "\n",
        "$$\n",
        "u = \\left[3.225, 2.408, 1.817, 1.549, 1.414\\right]\n",
        "$$\n",
        "\n",
        "$$\n",
        "v = \\left[1.414, 1, 0.707, 0.577, 0.5\\right]\n",
        "$$\n",
        "\n",
        "Teremos o seguinte sistema\n",
        "\n",
        "$$\n",
        "\\left[\n",
        "\\begin{array}{cc}\n",
        "1.414 & 1 \\\\\n",
        "1 & 1 \\\\\n",
        "0.707 & 1 \\\\\n",
        "0.577 & 1 \\\\\n",
        "0.5 & 1\n",
        "\\end{array}\n",
        "\\right]\n",
        "\\left[\n",
        "\\begin{array}{c}\n",
        "m \\\\\n",
        "n\n",
        "\\end{array}\n",
        "\\right]=\n",
        "\\left[\n",
        "\\begin{array}{c}\n",
        "3.225\\\\\n",
        "2.408\\\\\n",
        "1.817\\\\\n",
        "1.549\\\\\n",
        "1.414\n",
        "\\end{array}\n",
        "\\right]\n",
        "$$\n",
        "\n",
        "Aplicando o método dos mínimos quadrados"
      ],
      "metadata": {
        "id": "7wAf2_Ia6SaZ"
      }
    },
    {
      "cell_type": "markdown",
      "source": [
        "$$\n",
        "\\left[\n",
        "\\begin{array}{cccc}\n",
        "1.414 & 1 & 0.707 & 0.577 & 0.5 \\\\\n",
        "1 & 1 & 1 & 1 & 1\n",
        "\\end{array}\n",
        "\\right]\n",
        "\\left[\n",
        "\\begin{array}{cc}\n",
        "1.414 & 1 \\\\\n",
        "1 & 1 \\\\\n",
        "0.707 & 1 \\\\\n",
        "0.577 & 1 \\\\\n",
        "0.5 & 1\n",
        "\\end{array}\n",
        "\\right]\n",
        "\\left[\n",
        "\\begin{array}{c}\n",
        "m \\\\\n",
        "n\n",
        "\\end{array}\n",
        "\\right]=\n",
        "\\left[\n",
        "\\begin{array}{cccc}\n",
        "1.414 & 1 & 0.707 & 0.577 & 0.5 \\\\\n",
        "1 & 1 & 1 & 1 & 1\n",
        "\\end{array}\n",
        "\\right]\n",
        "\\left[\n",
        "\\begin{array}{c}\n",
        "3.225\\\\\n",
        "2.408\\\\\n",
        "1.817\\\\\n",
        "1.549\\\\\n",
        "1.414\n",
        "\\end{array}\n",
        "\\right]\n",
        "$$"
      ],
      "metadata": {
        "id": "blY47WIu82w4"
      }
    },
    {
      "cell_type": "markdown",
      "source": [
        "$$\\left[\n",
        "\\begin{array}{cc}\n",
        "4.082 & 4.198 \\\\\n",
        "4.198 & 5\n",
        "\\end{array}\n",
        "\\right]\n",
        "\\left[\n",
        "\\begin{array}{c}\n",
        "m \\\\\n",
        "n\n",
        "\\end{array}\n",
        "\\right]=\n",
        "\\left[\n",
        "\\begin{array}{c}\n",
        "9.854 \\\\\n",
        "10.413\n",
        "\\end{array}\n",
        "\\right]\n",
        "$$\n",
        "\n",
        "O que nos conduz à solução\n",
        "$$\n",
        "\\left[\n",
        "\\begin{array}{c}\n",
        "m \\\\\n",
        "n\n",
        "\\end{array}\n",
        "\\right]=\n",
        "\\left[\n",
        "\\begin{array}{c}\n",
        "1.992 \\\\\n",
        "0.410\n",
        "\\end{array}\n",
        "\\right]\n",
        "$$"
      ],
      "metadata": {
        "id": "m6b4blVi9FLA"
      }
    },
    {
      "cell_type": "code",
      "source": [
        "A = np.array([[1.414, 1], [1, 1], [0.707, 1], [0.577, 1], [0.5, 1]])\n",
        "b = np.array([3.225, 2.408, 1.817, 1.549, 1.414])\n",
        "\n",
        "badSolution = badSolver(A, b)\n",
        "linalgSolution = linAlgSolver(A, b)"
      ],
      "metadata": {
        "id": "hgW63IWd-U9q"
      },
      "execution_count": null,
      "outputs": []
    },
    {
      "cell_type": "code",
      "source": [
        "print(\"Bad Solution:\")\n",
        "badSolution"
      ],
      "metadata": {
        "colab": {
          "base_uri": "https://localhost:8080/",
          "height": 0
        },
        "outputId": "b35a5ccb-fe27-4c57-a253-c99e69e37a58",
        "id": "wbvp0hFg-U9q"
      },
      "execution_count": 67,
      "outputs": [
        {
          "output_type": "stream",
          "name": "stdout",
          "text": [
            "Bad Solution:\n"
          ]
        },
        {
          "output_type": "execute_result",
          "data": {
            "text/plain": [
              "array([1.99232476, 0.40984413])"
            ]
          },
          "metadata": {},
          "execution_count": 67
        }
      ]
    },
    {
      "cell_type": "code",
      "source": [
        "print(\"linAlg Solution:\")\n",
        "linalgSolution"
      ],
      "metadata": {
        "colab": {
          "base_uri": "https://localhost:8080/",
          "height": 0
        },
        "outputId": "cd566e51-5b84-464d-d24f-b0f439007412",
        "id": "zYgAsYrH-U9q"
      },
      "execution_count": 68,
      "outputs": [
        {
          "output_type": "stream",
          "name": "stdout",
          "text": [
            "linAlg Solution:\n"
          ]
        },
        {
          "output_type": "execute_result",
          "data": {
            "text/plain": [
              "array([1.99232476, 0.40984413])"
            ]
          },
          "metadata": {},
          "execution_count": 68
        }
      ]
    },
    {
      "cell_type": "markdown",
      "source": [
        "Temos\n",
        "\n",
        "$$n=\\dfrac{1}{b}=0.410 \\Rightarrow b = 2.439$$\n",
        "$$m = \\dfrac{a}{b} ⇒ 1.992 = \\dfrac{a}{2.439} ⇒ a=4.858$$"
      ],
      "metadata": {
        "id": "ymiKWl7x-ueI"
      }
    }
  ]
}